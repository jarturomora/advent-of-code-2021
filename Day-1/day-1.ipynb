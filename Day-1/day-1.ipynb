{
 "cells": [
  {
   "cell_type": "markdown",
   "metadata": {},
   "source": [
    "# Day 1: Sonar Sweep"
   ]
  },
  {
   "cell_type": "markdown",
   "metadata": {},
   "source": [
    "## Part 1"
   ]
  },
  {
   "cell_type": "code",
   "execution_count": 1,
   "metadata": {},
   "outputs": [],
   "source": [
    "# Required libraries\n",
    "from path import Path"
   ]
  },
  {
   "cell_type": "code",
   "execution_count": 2,
   "metadata": {},
   "outputs": [],
   "source": [
    "# Read the input file\n",
    "file = open(\"input.txt\")\n",
    "lines = file.readlines()"
   ]
  },
  {
   "cell_type": "code",
   "execution_count": 3,
   "metadata": {},
   "outputs": [],
   "source": [
    "measurements = [int(line) for line in lines]"
   ]
  },
  {
   "cell_type": "code",
   "execution_count": 4,
   "metadata": {},
   "outputs": [
    {
     "name": "stdout",
     "output_type": "stream",
     "text": [
      "1688\n"
     ]
    }
   ],
   "source": [
    "increments = 0\n",
    "for i, measurement in enumerate(measurements):\n",
    "    if i != 0:\n",
    "        if measurements[i] > measurements[i-1]:\n",
    "            increments+=1\n",
    "print(increments)"
   ]
  },
  {
   "cell_type": "markdown",
   "metadata": {},
   "source": [
    "## Part 2"
   ]
  },
  {
   "cell_type": "code",
   "execution_count": 20,
   "metadata": {},
   "outputs": [
    {
     "name": "stdout",
     "output_type": "stream",
     "text": [
      "1728\n"
     ]
    }
   ],
   "source": [
    "increments = 0\n",
    "limit = len(measurements) - 3\n",
    "for i, measurement in enumerate(measurements):\n",
    "    if i < limit:\n",
    "        triad_1 = sum(measurements[i:i+3])\n",
    "        triad_2 = sum(measurements[i+1:i+4])\n",
    "        if triad_2 > triad_1:\n",
    "            increments+=1\n",
    "print(increments)"
   ]
  }
 ],
 "metadata": {
  "interpreter": {
   "hash": "8e89d55d68487a3aa73d4ab4b1e364651949d77740297645382d8372110fabf1"
  },
  "kernelspec": {
   "display_name": "Python 3.7.6 64-bit ('base': conda)",
   "language": "python",
   "name": "python3"
  },
  "language_info": {
   "codemirror_mode": {
    "name": "ipython",
    "version": 3
   },
   "file_extension": ".py",
   "mimetype": "text/x-python",
   "name": "python",
   "nbconvert_exporter": "python",
   "pygments_lexer": "ipython3",
   "version": "3.7.6"
  },
  "orig_nbformat": 4
 },
 "nbformat": 4,
 "nbformat_minor": 2
}
